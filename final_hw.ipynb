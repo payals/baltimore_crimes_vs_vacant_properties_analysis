{
 "cells": [
  {
   "cell_type": "markdown",
   "metadata": {},
   "source": [
    "A 1.) Loading both datasets into pandas:"
   ]
  },
  {
   "cell_type": "code",
   "execution_count": 3,
   "metadata": {
    "collapsed": true
   },
   "outputs": [],
   "source": [
    "import pandas as pd\n",
    "import numpy as np\n",
    "\n",
    "crimes = pd.read_csv('crime.csv')\n",
    "vacant_buildings = pd.read_csv('vacant_buildings.csv')"
   ]
  },
  {
   "cell_type": "code",
   "execution_count": 30,
   "metadata": {},
   "outputs": [
    {
     "data": {
      "text/html": [
       "<div>\n",
       "<style>\n",
       "    .dataframe thead tr:only-child th {\n",
       "        text-align: right;\n",
       "    }\n",
       "\n",
       "    .dataframe thead th {\n",
       "        text-align: left;\n",
       "    }\n",
       "\n",
       "    .dataframe tbody tr th {\n",
       "        vertical-align: top;\n",
       "    }\n",
       "</style>\n",
       "<table border=\"1\" class=\"dataframe\">\n",
       "  <thead>\n",
       "    <tr style=\"text-align: right;\">\n",
       "      <th></th>\n",
       "      <th>CrimeDate</th>\n",
       "      <th>CrimeCode</th>\n",
       "      <th>Location</th>\n",
       "      <th>Description</th>\n",
       "      <th>Weapon</th>\n",
       "      <th>District</th>\n",
       "      <th>Neighborhood</th>\n",
       "    </tr>\n",
       "  </thead>\n",
       "  <tbody>\n",
       "    <tr>\n",
       "      <th>0</th>\n",
       "      <td>10/14/2017</td>\n",
       "      <td>4A</td>\n",
       "      <td>2700 BEETHOVEN AVE</td>\n",
       "      <td>AGG. ASSAULT</td>\n",
       "      <td>FIREARM</td>\n",
       "      <td>NORTHWESTERN</td>\n",
       "      <td>NaN</td>\n",
       "    </tr>\n",
       "    <tr>\n",
       "      <th>1</th>\n",
       "      <td>10/14/2017</td>\n",
       "      <td>4E</td>\n",
       "      <td>4200 EDMONDSON AVE</td>\n",
       "      <td>COMMON ASSAULT</td>\n",
       "      <td>HANDS</td>\n",
       "      <td>SOUTHWESTERN</td>\n",
       "      <td>Rognel Heights</td>\n",
       "    </tr>\n",
       "    <tr>\n",
       "      <th>2</th>\n",
       "      <td>10/14/2017</td>\n",
       "      <td>4E</td>\n",
       "      <td>BALTIMORE ST &amp; N HOWARD ST</td>\n",
       "      <td>COMMON ASSAULT</td>\n",
       "      <td>HANDS</td>\n",
       "      <td>CENTRAL</td>\n",
       "      <td>Downtown</td>\n",
       "    </tr>\n",
       "    <tr>\n",
       "      <th>3</th>\n",
       "      <td>10/14/2017</td>\n",
       "      <td>4E</td>\n",
       "      <td>BALTIMORE ST &amp; N HOWARD ST</td>\n",
       "      <td>COMMON ASSAULT</td>\n",
       "      <td>HANDS</td>\n",
       "      <td>CENTRAL</td>\n",
       "      <td>Downtown</td>\n",
       "    </tr>\n",
       "    <tr>\n",
       "      <th>4</th>\n",
       "      <td>10/14/2017</td>\n",
       "      <td>4E</td>\n",
       "      <td>400 WALTON AV, AAC</td>\n",
       "      <td>COMMON ASSAULT</td>\n",
       "      <td>HANDS</td>\n",
       "      <td>CENTRAL</td>\n",
       "      <td>Upton</td>\n",
       "    </tr>\n",
       "  </tbody>\n",
       "</table>\n",
       "</div>"
      ],
      "text/plain": [
       "    CrimeDate CrimeCode                    Location     Description   Weapon  \\\n",
       "0  10/14/2017        4A          2700 BEETHOVEN AVE    AGG. ASSAULT  FIREARM   \n",
       "1  10/14/2017        4E          4200 EDMONDSON AVE  COMMON ASSAULT    HANDS   \n",
       "2  10/14/2017        4E  BALTIMORE ST & N HOWARD ST  COMMON ASSAULT    HANDS   \n",
       "3  10/14/2017        4E  BALTIMORE ST & N HOWARD ST  COMMON ASSAULT    HANDS   \n",
       "4  10/14/2017        4E          400 WALTON AV, AAC  COMMON ASSAULT    HANDS   \n",
       "\n",
       "       District    Neighborhood  \n",
       "0  NORTHWESTERN             NaN  \n",
       "1  SOUTHWESTERN  Rognel Heights  \n",
       "2       CENTRAL        Downtown  \n",
       "3       CENTRAL        Downtown  \n",
       "4       CENTRAL           Upton  "
      ]
     },
     "execution_count": 30,
     "metadata": {},
     "output_type": "execute_result"
    }
   ],
   "source": [
    "crimes.head()"
   ]
  },
  {
   "cell_type": "code",
   "execution_count": 31,
   "metadata": {},
   "outputs": [
    {
     "data": {
      "text/html": [
       "<div>\n",
       "<style>\n",
       "    .dataframe thead tr:only-child th {\n",
       "        text-align: right;\n",
       "    }\n",
       "\n",
       "    .dataframe thead th {\n",
       "        text-align: left;\n",
       "    }\n",
       "\n",
       "    .dataframe tbody tr th {\n",
       "        vertical-align: top;\n",
       "    }\n",
       "</style>\n",
       "<table border=\"1\" class=\"dataframe\">\n",
       "  <thead>\n",
       "    <tr style=\"text-align: right;\">\n",
       "      <th></th>\n",
       "      <th>ReferenceID</th>\n",
       "      <th>Block</th>\n",
       "      <th>Lot</th>\n",
       "      <th>BuildingAddress</th>\n",
       "      <th>NoticeDate</th>\n",
       "      <th>Neighborhood</th>\n",
       "      <th>PoliceDistrict</th>\n",
       "      <th>CouncilDistrict</th>\n",
       "      <th>Location</th>\n",
       "    </tr>\n",
       "  </thead>\n",
       "  <tbody>\n",
       "    <tr>\n",
       "      <th>0</th>\n",
       "      <td>0002 019 031016</td>\n",
       "      <td>0002</td>\n",
       "      <td>019</td>\n",
       "      <td>1909 W NORTH AVE</td>\n",
       "      <td>03/10/2016</td>\n",
       "      <td>EASTERWOOD</td>\n",
       "      <td>WESTERN</td>\n",
       "      <td>7</td>\n",
       "      <td>(39.30952601, -76.64848892)</td>\n",
       "    </tr>\n",
       "    <tr>\n",
       "      <th>1</th>\n",
       "      <td>0007 057 031116</td>\n",
       "      <td>0007</td>\n",
       "      <td>057</td>\n",
       "      <td>1734 APPLETON ST</td>\n",
       "      <td>03/11/2016</td>\n",
       "      <td>EASTERWOOD</td>\n",
       "      <td>WESTERN</td>\n",
       "      <td>7</td>\n",
       "      <td>(39.30856758, -76.64921157)</td>\n",
       "    </tr>\n",
       "    <tr>\n",
       "      <th>2</th>\n",
       "      <td>0125 012 030816</td>\n",
       "      <td>0125</td>\n",
       "      <td>012</td>\n",
       "      <td>522 N CAREY ST</td>\n",
       "      <td>03/08/2016</td>\n",
       "      <td>HARLEM PARK</td>\n",
       "      <td>WESTERN</td>\n",
       "      <td>9</td>\n",
       "      <td>(39.29482152, -76.63877572)</td>\n",
       "    </tr>\n",
       "    <tr>\n",
       "      <th>3</th>\n",
       "      <td>0151 009 030716</td>\n",
       "      <td>0151</td>\n",
       "      <td>009</td>\n",
       "      <td>317 N GILMOR ST</td>\n",
       "      <td>03/07/2016</td>\n",
       "      <td>FRANKLIN SQUARE</td>\n",
       "      <td>WESTERN</td>\n",
       "      <td>9</td>\n",
       "      <td>(39.29261888, -76.64231678)</td>\n",
       "    </tr>\n",
       "    <tr>\n",
       "      <th>4</th>\n",
       "      <td>0232 032 031116</td>\n",
       "      <td>0232</td>\n",
       "      <td>032</td>\n",
       "      <td>1324 W LOMBARD ST</td>\n",
       "      <td>03/11/2016</td>\n",
       "      <td>UNION SQUARE</td>\n",
       "      <td>SOUTHERN</td>\n",
       "      <td>9</td>\n",
       "      <td>(39.28680988, -76.63888529)</td>\n",
       "    </tr>\n",
       "  </tbody>\n",
       "</table>\n",
       "</div>"
      ],
      "text/plain": [
       "       ReferenceID Block  Lot    BuildingAddress  NoticeDate     Neighborhood  \\\n",
       "0  0002 019 031016  0002  019   1909 W NORTH AVE  03/10/2016       EASTERWOOD   \n",
       "1  0007 057 031116  0007  057   1734 APPLETON ST  03/11/2016       EASTERWOOD   \n",
       "2  0125 012 030816  0125  012     522 N CAREY ST  03/08/2016      HARLEM PARK   \n",
       "3  0151 009 030716  0151  009    317 N GILMOR ST  03/07/2016  FRANKLIN SQUARE   \n",
       "4  0232 032 031116  0232  032  1324 W LOMBARD ST  03/11/2016     UNION SQUARE   \n",
       "\n",
       "  PoliceDistrict  CouncilDistrict                     Location  \n",
       "0        WESTERN                7  (39.30952601, -76.64848892)  \n",
       "1        WESTERN                7  (39.30856758, -76.64921157)  \n",
       "2        WESTERN                9  (39.29482152, -76.63877572)  \n",
       "3        WESTERN                9  (39.29261888, -76.64231678)  \n",
       "4       SOUTHERN                9  (39.28680988, -76.63888529)  "
      ]
     },
     "execution_count": 31,
     "metadata": {},
     "output_type": "execute_result"
    }
   ],
   "source": [
    "vacant_buildings.head()"
   ]
  },
  {
   "cell_type": "markdown",
   "metadata": {},
   "source": [
    "A 2.) Identify the types of the attributes in the two datasets (nominal, numeric, ratio,\n",
    "intervals, etc); gather this information in a “metadata” panda."
   ]
  },
  {
   "cell_type": "code",
   "execution_count": 11,
   "metadata": {},
   "outputs": [
    {
     "data": {
      "text/plain": [
       "CrimeDate       object\n",
       "CrimeCode       object\n",
       "Location        object\n",
       "Description     object\n",
       "Weapon          object\n",
       "District        object\n",
       "Neighborhood    object\n",
       "dtype: object"
      ]
     },
     "execution_count": 11,
     "metadata": {},
     "output_type": "execute_result"
    }
   ],
   "source": [
    "crimes.dtypes"
   ]
  },
  {
   "cell_type": "code",
   "execution_count": 28,
   "metadata": {},
   "outputs": [
    {
     "data": {
      "text/plain": [
       "['CrimeDate -> object',\n",
       " 'CrimeCode -> object',\n",
       " 'Location -> object',\n",
       " 'Description -> object',\n",
       " 'Weapon -> object',\n",
       " 'District -> object',\n",
       " 'Neighborhood -> object']"
      ]
     },
     "execution_count": 28,
     "metadata": {},
     "output_type": "execute_result"
    }
   ],
   "source": [
    "import re\n",
    "\n",
    "crimes_copy = crimes.copy()\n",
    "data_type = str(crimes_copy.dtypes).split('\\n')\n",
    "del(data_type[-1])\n",
    "\n",
    "attribute_types = []\n",
    "\n",
    "for dtype in data_type:\n",
    "    \n",
    "    attribute_types.append(re.sub(' +', ' -> ',dtype))\n",
    "\n",
    "crimes_copy.datatypes = attribute_types\n",
    "crimes_copy.datatypes"
   ]
  },
  {
   "cell_type": "code",
   "execution_count": 12,
   "metadata": {},
   "outputs": [
    {
     "data": {
      "text/plain": [
       "ReferenceID        object\n",
       "Block              object\n",
       "Lot                object\n",
       "BuildingAddress    object\n",
       "NoticeDate         object\n",
       "Neighborhood       object\n",
       "PoliceDistrict     object\n",
       "CouncilDistrict     int64\n",
       "Location           object\n",
       "dtype: object"
      ]
     },
     "execution_count": 12,
     "metadata": {},
     "output_type": "execute_result"
    }
   ],
   "source": [
    "vacant_buildings.dtypes"
   ]
  },
  {
   "cell_type": "code",
   "execution_count": 27,
   "metadata": {},
   "outputs": [
    {
     "data": {
      "text/plain": [
       "['ReferenceID -> object',\n",
       " 'Block -> object',\n",
       " 'Lot -> object',\n",
       " 'BuildingAddress -> object',\n",
       " 'NoticeDate -> object',\n",
       " 'Neighborhood -> object',\n",
       " 'PoliceDistrict -> object',\n",
       " 'CouncilDistrict -> int64',\n",
       " 'Location -> object']"
      ]
     },
     "execution_count": 27,
     "metadata": {},
     "output_type": "execute_result"
    }
   ],
   "source": [
    "import re\n",
    "\n",
    "vacant_properties = vacant_buildings.copy()\n",
    "data_type = str(vacant_properties.dtypes).split('\\n')\n",
    "del(data_type[-1])\n",
    "\n",
    "attribute_types = []\n",
    "\n",
    "for dtype in data_type:\n",
    "    \n",
    "    attribute_types.append(re.sub(' +', ' -> ',dtype))\n",
    "\n",
    "vacant_properties.datatypes = attribute_types\n",
    "vacant_properties.datatypes"
   ]
  },
  {
   "cell_type": "markdown",
   "metadata": {
    "collapsed": true
   },
   "source": [
    "A 3.) Demonstrate basic statistical descriptions for attributes of your choice (at least\n",
    "two attributes, and at least one of each boxplot, histogram, quantile plot, boxplot,\n",
    "quantile-quantile plot, scatterplot); explain any “useful” characteristics of those attributes\n",
    "that you can draw from those statistical descriptions."
   ]
  },
  {
   "cell_type": "markdown",
   "metadata": {},
   "source": [
    "(a) Histogram - 1. frequency of vacant_buildings and crimes per year for each year\n",
    "                2. number of vacancies and crimes per neighborhood"
   ]
  },
  {
   "cell_type": "code",
   "execution_count": 49,
   "metadata": {},
   "outputs": [
    {
     "data": {
      "text/html": [
       "<script>requirejs.config({paths: { 'plotly': ['https://cdn.plot.ly/plotly-latest.min']},});if(!window.Plotly) {{require(['plotly'],function(plotly) {window.Plotly=plotly;});}}</script>"
      ],
      "text/vnd.plotly.v1+html": [
       "<script>requirejs.config({paths: { 'plotly': ['https://cdn.plot.ly/plotly-latest.min']},});if(!window.Plotly) {{require(['plotly'],function(plotly) {window.Plotly=plotly;});}}</script>"
      ]
     },
     "metadata": {},
     "output_type": "display_data"
    },
    {
     "name": "stdout",
     "output_type": "stream",
     "text": [
      "278\n",
      "227\n"
     ]
    },
    {
     "data": {
      "text/plain": [
       "False"
      ]
     },
     "execution_count": 49,
     "metadata": {},
     "output_type": "execute_result"
    }
   ],
   "source": [
    "from plotly.offline import download_plotlyjs, init_notebook_mode, plot, iplot\n",
    "import plotly.graph_objs as gob\n",
    "\n",
    "init_notebook_mode(connected=True)\n",
    "\n",
    "crimes_copy = crimes.copy()\n",
    "vacant_buildings_copy = vacant_buildings.copy()\n",
    "\n",
    "crimes_neighborhood = crimes_copy['Neighborhood'].str.lower()\n",
    "vacant_buildings_neighborhood = vacant_buildings_copy['Neighborhood'].str.lower()\n",
    "\n",
    "\n",
    "print(crimes_neighborhood.nunique())\n",
    "print(vacant_buildings_neighborhood.nunique())\n",
    "\n",
    "crimes_neighborhood.equals(vacant_buildings)\n",
    "#iplot([Scatter(x=[1, 2, 3], y=[3, 1, 6])])"
   ]
  },
  {
   "cell_type": "code",
   "execution_count": null,
   "metadata": {
    "collapsed": true
   },
   "outputs": [],
   "source": []
  }
 ],
 "metadata": {
  "kernelspec": {
   "display_name": "Python 3",
   "language": "python",
   "name": "python3"
  },
  "language_info": {
   "codemirror_mode": {
    "name": "ipython",
    "version": 3
   },
   "file_extension": ".py",
   "mimetype": "text/x-python",
   "name": "python",
   "nbconvert_exporter": "python",
   "pygments_lexer": "ipython3",
   "version": "3.6.2"
  }
 },
 "nbformat": 4,
 "nbformat_minor": 2
}
